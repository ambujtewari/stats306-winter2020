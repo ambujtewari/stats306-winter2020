{
 "cells": [
  {
   "cell_type": "markdown",
   "metadata": {},
   "source": [
    "## STATS 306, Winter 2020 \n",
    "=============================\n",
    "\n",
    "# FINAL EXAM\n",
    "## This exam has 8 problems worth 5 points each for a total of 40 points.\n",
    "<br> \n",
    "\n",
    "[Exam instructions](https://github.com/ambujtewari/stats306-winter2020/blob/master/FINAL/README.md)\n",
    "\n",
    "Latest version of the exam will always be available [here](https://github.com/ambujtewari/stats306-winter2020/blob/master/FINAL/stats306final.ipynb)\n",
    "\n",
    "Version 5: 4/22/2020 10:40 am EDT\n",
    "- Problem 7(2): fixed typo $v_1, v_2, v_2$ $\\rightarrow$ $v_1, v_2, v_3$\n",
    "\n",
    "Version 4: 4/21/2020 6:00 pm EDT\n",
    "- Problem 5(4): added clarification about top 5 double letters\n",
    "\n",
    "Version 3: 4/21/2020 6:30 am EDT\n",
    "- Problem 4(1): added clarification about hiding outliers in the boxplot\n",
    "\n",
    "Version 2: 4/20/2020 4:00 pm EDT\n",
    "- Problem 4(1): fixed typos and added clarification about superimposing points on the boxplot\n",
    "- Problem 8(3): fixed typos\n",
    "\n",
    "Version 1: 4/20/2020"
   ]
  },
  {
   "cell_type": "markdown",
   "metadata": {},
   "source": [
    "Links to jump directly to problems\n",
    "\n",
    "* [Problem 1: AA Snowfall Data](#Problem-1:-Ann-Arbor-Snow-Data-for-December)\n",
    "* [Problem 2: Cars Data](#Problem-2:-Cars-on-Sale-in-the-USA-in-1993)\n",
    "* [Problem 3: Movies Data](#Problem-3:-The-Movie-Industry-Dataset)\n",
    "* [Problem 4: Adult Data](#Problem-4:-The-Adult-Dataset)\n",
    "* [Problem 5: Words](#Problem-5:-Words)\n",
    "* [Problem 6: Phone Numbers](#Problem-6:-Phone-Numbers)\n",
    "* [Problem 7: Simulation](#Problem-7:-A-Simple-Simulation-of-an-Epidemic)\n",
    "* [Problem 8: Model Fit](#Problem-8:-Fitting-a-Growth-Curve-to-US-COVID-19-Data)"
   ]
  },
  {
   "cell_type": "code",
   "execution_count": null,
   "metadata": {},
   "outputs": [],
   "source": [
    "library(tidyverse)"
   ]
  },
  {
   "cell_type": "markdown",
   "metadata": {},
   "source": [
    "# Problem 1: Ann Arbor Snow Data for December\n",
    "## _5 points_"
   ]
  },
  {
   "cell_type": "markdown",
   "metadata": {},
   "source": [
    "**(0)** _Please fill out the teaching evaluation for this course on canvas_ (or [here](https://umich.bluera.com/umich/)). You don't have to tell us whether or not you filled it out. Evaluations are fully anonymous. We do get to see how many of you have filled in the evaluations. So, if the total response rate exceeds 90%, we will award 1 point for this problem to everyone.\n",
    "\n",
    "_1 point_\n",
    "<br><br>"
   ]
  },
  {
   "cell_type": "code",
   "execution_count": null,
   "metadata": {},
   "outputs": [],
   "source": [
    "a2snow <- read_csv(\"https://github.com/ambujtewari/stats306-winter2020/raw/master/FINAL/a2snow.csv\")"
   ]
  },
  {
   "cell_type": "markdown",
   "metadata": {},
   "source": [
    "This problem is about Ann Arbor Snow data for December in each year from 1892 to 2018 (except 1954 and 1965). It has 34 columns and 125 observations. `VALUEX` columns are corresponding to day `X` of that month in that year. Each `VALUEX` represent amount of snow on that day in millimeters."
   ]
  },
  {
   "cell_type": "code",
   "execution_count": null,
   "metadata": {},
   "outputs": [],
   "source": [
    "head(a2snow)"
   ]
  },
  {
   "cell_type": "markdown",
   "metadata": {},
   "source": [
    "**(1)** Convert `a2snow` to the `longer` format\n",
    "\n",
    "_1 point_\n",
    "<br><br>\n",
    "\n",
    "Specifically:\n",
    "* The columns `VALUE1` through `VALUE31` are actually values for a variable `day`. Make a longer tibble by creating this new variable `day`. The snowfall values should go in a new variable called `snow(mm)`.\n",
    "* Your `day` variable will be of type `character`. Make it of `integer` type by first removing the string `\"VALUE\"` from the entries and then converting it into an integer. For instance, `\"VALUE1\"` should become the interger `1`. \n",
    "* If there is no snow or it is not significant amount, values are coded as `NA`. Convert all `NA`s to `0`s.\n",
    "* Only include `year`, `month`, `day` and `snow(mm)` columns in your final tibble.\n",
    "\n",
    "Your new tibble should be called `a2snow.longer`. \n",
    "Here is how your final tibble should look like when you run `print(a2snow.longer)`:"
   ]
  },
  {
   "cell_type": "markdown",
   "metadata": {},
   "source": [
    "![a2snow.longer](https://github.com/ambujtewari/stats306-winter2020/raw/master/FINAL/q_enes_11.png)"
   ]
  },
  {
   "cell_type": "code",
   "execution_count": null,
   "metadata": {},
   "outputs": [],
   "source": [
    "# Solution Cell\n",
    "\n"
   ]
  },
  {
   "cell_type": "markdown",
   "metadata": {},
   "source": [
    "**(2)** In each year calculate the snowfall difference between Christmas Day (Dec 25th) and the avarage of rest (i.e., excluding Christmas day) of the December.\n",
    "\n",
    "_2 points_ <br><br>\n",
    "\n",
    "Specifically;\n",
    "* In each year calculate mean snow for rest of the december (i.e., excluding 25th)\n",
    "* Substract this mean from Christmas Day snowfall and call the new variable `difference`\n",
    "\n",
    "_Hint:_ It might be useful to create a variable called `is.xmas` variable first (that takes value `xmas.snow` for Dec 25th and `not.xmas.mean.snow` otherwise) and then take the grouped mean of snowfall by that variable. After, you can use `pivot_wider` to create `not.xmas.mean.snow` and `xmas.snow` variables.\n",
    "\n",
    "Call your new tibble `a2snow.longer2`. Here is how your final tibble should look like when you run `print(a2snow.longer2)`:"
   ]
  },
  {
   "cell_type": "markdown",
   "metadata": {},
   "source": [
    "![a2snow.longer2](https://github.com/ambujtewari/stats306-winter2020/raw/master/FINAL/q_enes_12.png)"
   ]
  },
  {
   "cell_type": "code",
   "execution_count": null,
   "metadata": {},
   "outputs": [],
   "source": [
    "# Solution Cell\n",
    "\n"
   ]
  },
  {
   "cell_type": "markdown",
   "metadata": {},
   "source": [
    "**(3)** Recreate below plot using `ggplot`\n",
    "\n",
    "_1 point_\n",
    "\n",
    "* Don't worry about small differences between your plot and ours\n",
    "* Name of the axis should be the same\n",
    "* Plot title should be legible (should not be cut off) _Hint:_ Use newline. Also, you can use `ggtitle()` for plot title\n",
    "* You should have a y-intercept at 0 _Hint:_ You can use `geom_hline()` for horizontal line\n"
   ]
  },
  {
   "cell_type": "markdown",
   "metadata": {},
   "source": [
    "![a2snowPlot](https://github.com/ambujtewari/stats306-winter2020/raw/master/FINAL/q_enes_13.png)"
   ]
  },
  {
   "cell_type": "code",
   "execution_count": null,
   "metadata": {},
   "outputs": [],
   "source": [
    "# Solution Cell\n",
    "\n"
   ]
  },
  {
   "cell_type": "markdown",
   "metadata": {},
   "source": [
    "# Problem 2: Cars on Sale in the USA in 1993\n",
    "## _5 points_"
   ]
  },
  {
   "cell_type": "code",
   "execution_count": null,
   "metadata": {},
   "outputs": [],
   "source": [
    "Cars93 <- read_csv(\"https://github.com/ambujtewari/stats306-winter2020/raw/master/FINAL/carsdata93.csv\", col_types = cols(X1 = col_skip()))"
   ]
  },
  {
   "cell_type": "code",
   "execution_count": null,
   "metadata": {},
   "outputs": [],
   "source": [
    "head(Cars93)"
   ]
  },
  {
   "cell_type": "markdown",
   "metadata": {},
   "source": [
    "**(1)** How many cars are there that are either made in US or have a capacity of more than 5 passengers but _not_ both?\n",
    "\n",
    "_1 point_ <br><br>\n",
    "\n",
    "Clarification:\n",
    "* _Hint:_ Look at the `Origin` variable\n",
    "* \"more than 5\" is strict, i.e., it means 6, 7, 8, ..."
   ]
  },
  {
   "cell_type": "code",
   "execution_count": null,
   "metadata": {},
   "outputs": [],
   "source": [
    "# Solution Cell \n",
    "\n"
   ]
  },
  {
   "cell_type": "markdown",
   "metadata": {},
   "source": [
    "**(2)** Volatility in car prices\n",
    "\n",
    "_2 points_ <br><br>\n",
    "\n",
    "For some models, price of the car is volatile. Define a variable called `Volatility` which is the difference between maximum and minumum price divided by the sum of the two. Sort all car variables by descending order of `Volatility`. Show the first 12 `Manufacturers` and `Model` pairs as `Manufacturer Model`. So at the end you only have 12 observations with a single column. Make sure you don't have any other columns included (not even `Volatility` variable). To give you some idea about the final result, we have included below a print out of the first and last observations.\n",
    "\n",
    "_Hint:_ maximum and minumum prices are coded as Max.Price and Min.Price.\n",
    "\n",
    "_Hint:_ When you are uniting the two columns, you need to specify the `sep` argument."
   ]
  },
  {
   "cell_type": "markdown",
   "metadata": {},
   "source": [
    "![Cars93](https://raw.githubusercontent.com/ambujtewari/stats306-winter2020/master/FINAL/q_enes_22.png)"
   ]
  },
  {
   "cell_type": "code",
   "execution_count": null,
   "metadata": {},
   "outputs": [],
   "source": [
    "# Solution Cell\n",
    "\n"
   ]
  },
  {
   "cell_type": "markdown",
   "metadata": {},
   "source": [
    "**(3)** Create a suitable plot to show relationship between `Origin` of the car and `Price` of the car.\n",
    "\n",
    "_2 points_"
   ]
  },
  {
   "cell_type": "code",
   "execution_count": null,
   "metadata": {},
   "outputs": [],
   "source": [
    "# Solution Cell\n",
    "\n"
   ]
  },
  {
   "cell_type": "markdown",
   "metadata": {},
   "source": [
    "# Problem 3: The Movie Industry Dataset\n",
    "## _5 points_"
   ]
  },
  {
   "cell_type": "code",
   "execution_count": null,
   "metadata": {},
   "outputs": [],
   "source": [
    "url <- \"https://raw.githubusercontent.com/ambujtewari/stats306-winter2020/master/FINAL/movies.csv\"\n",
    "movies <- read_csv(url)"
   ]
  },
  {
   "cell_type": "markdown",
   "metadata": {},
   "source": [
    "The `movies` tibble contains information on the last three decades of movies from different countries. The data has been scraped from the IMDb website. It has 15 columns and 6820 observations."
   ]
  },
  {
   "cell_type": "code",
   "execution_count": null,
   "metadata": {},
   "outputs": [],
   "source": [
    "head(movies)"
   ]
  },
  {
   "cell_type": "markdown",
   "metadata": {},
   "source": [
    "**(1)** Visualize the distribution of `genre` with `country == \"USA\"` using the appropriate `ggplot` geometry.\n",
    "\n",
    "_1 points_ <br><br>\n",
    "\n",
    "_Hint:_ use `theme(axis.text.x = element_text(angle = 45, hjust = 1))` to rotate axis text labels"
   ]
  },
  {
   "cell_type": "code",
   "execution_count": null,
   "metadata": {},
   "outputs": [],
   "source": [
    "# Solution cell\n",
    "\n"
   ]
  },
  {
   "cell_type": "markdown",
   "metadata": {},
   "source": [
    "**(2)** In this problem we will visualize the distribution of `score` using a histogram with the binwidth calculated using the [Freedman-Diaconis rule](https://en.wikipedia.org/wiki/Freedman%E2%80%93Diaconis_rule).\n",
    "\n",
    "_1 point_\n",
    "\n",
    "In the cell below, define a variable `fd_binwidth` which is the binwidth given by the Freedman-Diaconis rule for the `score` variable. Note that the Freedman-Diaconis rule for binwidth is:\n",
    "\n",
    "$\\text{Bin width} = 2\\times(\\text{75th percentile} - \\text{25th percentile})/n^{1/3}$\n",
    "\n",
    "where $n$ is the number of samples.\n",
    "\n",
    "_Hint:_ You can use the `quantile` function to compute the percentiles. Note that the 75th percentile is also called the upper quartile and the 25th percentile is called the lower quartile. So the difference in the above formula is the Inter Quartile Range (IQR)."
   ]
  },
  {
   "cell_type": "code",
   "execution_count": null,
   "metadata": {},
   "outputs": [],
   "source": [
    "# Solution Cell\n",
    "\n"
   ]
  },
  {
   "cell_type": "markdown",
   "metadata": {},
   "source": [
    " Now use `geom_histogram` to visualize the distribution of `score` using the the binwidth computed above."
   ]
  },
  {
   "cell_type": "code",
   "execution_count": null,
   "metadata": {},
   "outputs": [],
   "source": [
    "# Solution cell\n",
    "\n"
   ]
  },
  {
   "cell_type": "markdown",
   "metadata": {},
   "source": [
    "**(3)** We will study the relationship between the `score` and `gross` variable but only for movies with `director == Woody Allen` and `genre == Comedy`.\n",
    "\n",
    "_2 points_\n",
    "<br><br>\n",
    "\n",
    "First use a suitable plot to visualize the relationship and gain insight on any trends that might exist."
   ]
  },
  {
   "cell_type": "code",
   "execution_count": null,
   "metadata": {},
   "outputs": [],
   "source": [
    "# Solution Cell\n",
    "\n"
   ]
  },
  {
   "cell_type": "markdown",
   "metadata": {},
   "source": [
    "Next, in the empty markdown cell below, briefly comment on what relationship you found in the plot above."
   ]
  },
  {
   "cell_type": "markdown",
   "metadata": {},
   "source": [
    "Empty markdown cell"
   ]
  },
  {
   "cell_type": "markdown",
   "metadata": {},
   "source": [
    "Do you see any outlier(s)? Use `filter` to return only the outlier(s)."
   ]
  },
  {
   "cell_type": "code",
   "execution_count": null,
   "metadata": {},
   "outputs": [],
   "source": [
    "# Solution Cell\n",
    "\n"
   ]
  },
  {
   "cell_type": "markdown",
   "metadata": {},
   "source": [
    "**(4)** How would you visualize the distribution of `score` for each value of `genre` for movies with `country == \"USA\"`? Make sure that the `genre`s are sorted from left to right in the order of increasing median `score`.\n",
    "\n",
    "_1 point_ <br><br>\n",
    "\n",
    "_Hint:_ use `theme(axis.text.x = element_text(angle = 45, hjust = 1))` to rotate axis text labels"
   ]
  },
  {
   "cell_type": "code",
   "execution_count": null,
   "metadata": {},
   "outputs": [],
   "source": [
    "# Solution Cell\n",
    "\n"
   ]
  },
  {
   "cell_type": "markdown",
   "metadata": {},
   "source": [
    "In the empty markdown cell below, type the name of the genre that has the highest median score as seen in the plot above."
   ]
  },
  {
   "cell_type": "markdown",
   "metadata": {},
   "source": [
    "Empty markdown cell"
   ]
  },
  {
   "cell_type": "markdown",
   "metadata": {},
   "source": [
    "# Problem 4: The Adult Dataset\n",
    "## _5 points_"
   ]
  },
  {
   "cell_type": "markdown",
   "metadata": {},
   "source": [
    "This problem uses the Adult dataset, which we load below. The `high.income` variable indicates whether the individual’s income was over $50K. Anyone for whom `high.income == 1` is considered a “high earner”."
   ]
  },
  {
   "cell_type": "code",
   "execution_count": null,
   "metadata": {},
   "outputs": [],
   "source": [
    "adult.data <- read.csv(\"http://archive.ics.uci.edu/ml/machine-learning-databases/adult/adult.data\", header=FALSE, fill=FALSE, strip.white=TRUE,\n",
    "                 col.names=c(\"age\", \"type_employer\", \"fnlwgt\", \"education\", \n",
    "                \"education_num\",\"marital\", \"occupation\", \"relationship\", \"race\",\"sex\",\n",
    "                \"capital_gain\", \"capital_loss\", \"hr_per_week\",\"country\", \"income\"))\n",
    "adult.data <- mutate(adult.data,\n",
    "                     high.income = as.numeric(income == \">50K\"))"
   ]
  },
  {
   "cell_type": "code",
   "execution_count": null,
   "metadata": {},
   "outputs": [],
   "source": [
    "head(adult.data)"
   ]
  },
  {
   "cell_type": "markdown",
   "metadata": {},
   "source": [
    "**(1)** Let's focus on adults with `age > 60`. Create a boxplot which shows the relationship between `education_num` and `hr_per_week`.\n",
    "\n",
    "_2 points_ <br><br>\n",
    "\n",
    "Specifically;\n",
    "\n",
    "* Make a boxplot by with `education_num` on the x axis and `hr_per_week` on the y axis. You may want to convert `education_num` to factor using `as.factor()`.\n",
    "* Superimposed on the boxplot, you should also show the points themselves. You should handle overplotting and also hide outliers (in the boxplot only so that they don't appear twice)."
   ]
  },
  {
   "cell_type": "code",
   "execution_count": null,
   "metadata": {},
   "outputs": [],
   "source": [
    "# Solution Cell\n",
    "\n"
   ]
  },
  {
   "cell_type": "markdown",
   "metadata": {},
   "source": [
    "**(2)** Recreate the following plot.\n",
    "\n",
    "_1 point_ <br><br>"
   ]
  },
  {
   "cell_type": "markdown",
   "metadata": {},
   "source": [
    "![adult.data](https://raw.githubusercontent.com/ambujtewari/stats306-winter2020/master/FINAL/q_enes_42.png)"
   ]
  },
  {
   "cell_type": "code",
   "execution_count": null,
   "metadata": {},
   "outputs": [],
   "source": [
    "# Solution Cell\n",
    "\n"
   ]
  },
  {
   "cell_type": "markdown",
   "metadata": {},
   "source": [
    "**(3)** Use `dplyr` verbs to produce a summary table showing how the _proportion_ of high earners varies across all combinations of the following variables: `sex`, `race`, and `marital` (marital status). In addition to showing the proportion of high earners in each group (defined by a particular combination of the three variables), your tibble should also show the number of individuals in each group. Your tibble should have column names: `sex`, `race`, `marital`, `count` and `high.earn.rate`. In the second solution cell below, use the tibble you just created to construct a plot that looks like the one below.\n",
    "\n",
    "_2 points_ <br><br>\n",
    "\n",
    "_Hint:_ You may find it useful to use the following: `coord_flip()` (for barcharts with horizontal bars), and `theme(axis.text.x = element_text(angle = 90, hjust = 1))` (for rotating x axis text) "
   ]
  },
  {
   "cell_type": "markdown",
   "metadata": {},
   "source": [
    "![adult.data](https://github.com/ambujtewari/stats306-winter2020/raw/master/FINAL/q_enes_43.png)"
   ]
  },
  {
   "cell_type": "code",
   "execution_count": null,
   "metadata": {},
   "outputs": [],
   "source": [
    "# Solution Cell\n",
    "\n"
   ]
  },
  {
   "cell_type": "code",
   "execution_count": null,
   "metadata": {},
   "outputs": [],
   "source": [
    "# Solution Cell\n",
    "\n"
   ]
  },
  {
   "cell_type": "markdown",
   "metadata": {},
   "source": [
    "# Problem 5: Words\n",
    "## _5 points_"
   ]
  },
  {
   "cell_type": "markdown",
   "metadata": {},
   "source": [
    "All parts of this problem will use the `words` dataset created with the code cell below. Please use regexs and string functions to do this problem.\n",
    "\n",
    "For the purposes of this problem, treat `y` as a consonant and not a vowel."
   ]
  },
  {
   "cell_type": "code",
   "execution_count": null,
   "metadata": {},
   "outputs": [],
   "source": [
    "words <- read_csv(\"https://github.com/ambujtewari/stats306-winter2020/raw/master/FINAL/words.txt\", \n",
    "                 col_names=c('word'))\n",
    "words <- words %>% mutate(id = row_number())"
   ]
  },
  {
   "cell_type": "markdown",
   "metadata": {},
   "source": [
    "**(1)** Write code to find how many words contain an ABAB letter pattern where A, B are any two letters (allowed to be the same). For instance, `dipththeria` (thth) or `waterer` (erer). \n",
    "\n",
    "_1 point_"
   ]
  },
  {
   "cell_type": "code",
   "execution_count": null,
   "metadata": {},
   "outputs": [],
   "source": [
    "# Solution Cell\n",
    "\n"
   ]
  },
  {
   "cell_type": "markdown",
   "metadata": {},
   "source": [
    "**(2)** Write code to find out how many words contain 4 vowels in a row, but *not* 5. So `gooier` counts but `queueing` does not.\n",
    "\n",
    "_1 point_"
   ]
  },
  {
   "cell_type": "code",
   "execution_count": null,
   "metadata": {},
   "outputs": [],
   "source": [
    "# Solution Cell\n",
    "\n"
   ]
  },
  {
   "cell_type": "markdown",
   "metadata": {},
   "source": [
    "**(3)** Write code to find out how many 5-letter words are the same forwards and backwards.\n",
    "\n",
    "_1 point_"
   ]
  },
  {
   "cell_type": "code",
   "execution_count": null,
   "metadata": {},
   "outputs": [],
   "source": [
    "# Solution Cell\n",
    "\n"
   ]
  },
  {
   "cell_type": "markdown",
   "metadata": {},
   "source": [
    "**(4)** Create a tibble `double_letters` that counts how often each double-letter (i.e. `oo`, `ee`, `cc`) appears in `words`. For words with two sets of double letters, only count the first appearance (so `access` counts for `cc` but *not* for `ss`). Your tibble should have just two columns, `double_letter` and `num` where the latter is the count of how many times the double-letter in that row appears in `words`. Double-letters that do not appear in `words` should _not_ be present.\n",
    "\n",
    "Print the top 5 highest frequency double-letters and how often they appear.\n",
    "\n",
    "_2 points_"
   ]
  },
  {
   "cell_type": "code",
   "execution_count": null,
   "metadata": {},
   "outputs": [],
   "source": [
    "# Solution Cell\n",
    "\n"
   ]
  },
  {
   "cell_type": "markdown",
   "metadata": {},
   "source": [
    "# Problem 6: Phone Numbers\n",
    "## _5 points_"
   ]
  },
  {
   "cell_type": "markdown",
   "metadata": {},
   "source": [
    "**(1)** Write a function `get_phone_seg(phonenum, n)` that extracts the `n`th grouping from a phone number for `n=1, 2, 3`. For instance, \n",
    "\n",
    "    get_phone_seg('987-654-3210', 1) -> '987'\n",
    "    get_phone_seg('987-654-3210', 2) -> '654'\n",
    "    get_phone_seg('987-654-3210', 3) -> '3210'\n",
    "    \n",
    "Note that your function should be able to handle phone numbers in either `987-654-3210` or `(987) 654-3210` formats.\n",
    "\n",
    "_1 point_"
   ]
  },
  {
   "cell_type": "code",
   "execution_count": null,
   "metadata": {},
   "outputs": [],
   "source": [
    "# Solution Cell\n",
    "\n"
   ]
  },
  {
   "cell_type": "markdown",
   "metadata": {},
   "source": [
    "Make sure to test your function. For example, here are some test cases followed by expected behavior."
   ]
  },
  {
   "cell_type": "code",
   "execution_count": null,
   "metadata": {},
   "outputs": [],
   "source": [
    "get_phone_seg('354-332-4863', 1)\n",
    "get_phone_seg('354-332-4863', 2)\n",
    "get_phone_seg('354-332-4863', 3)\n",
    "\n",
    "get_phone_seg('(354) 332-4863', 1)\n",
    "get_phone_seg('(354) 332-4863', 2)\n",
    "get_phone_seg('(354) 332-4863', 3)"
   ]
  },
  {
   "cell_type": "markdown",
   "metadata": {},
   "source": [
    "![test get phone seg](https://github.com/ambujtewari/stats306-winter2020/raw/master/FINAL/prob_6_1.png)"
   ]
  },
  {
   "cell_type": "markdown",
   "metadata": {},
   "source": [
    "**(2)** Write a function `repeated_area(str)` that returns `TRUE` if the string contains a phone number with an area code with all repeated numbers, i.e. `999-654-3210`, but returns `FALSE` otherwise, like for `987-654-3210`. Note that the phone number can be embedded within a string, and the string may contain multiple numbers.\n",
    "\n",
    "You only need to correctly handle phone numbers in the `987-654-3210` format for this problem.\n",
    "\n",
    "_1 point_"
   ]
  },
  {
   "cell_type": "code",
   "execution_count": null,
   "metadata": {},
   "outputs": [],
   "source": [
    "# Solution Cell\n",
    "\n"
   ]
  },
  {
   "cell_type": "markdown",
   "metadata": {},
   "source": [
    "Make sure to test your function. For example, here are some test cases followed by expected behavior."
   ]
  },
  {
   "cell_type": "code",
   "execution_count": null,
   "metadata": {},
   "outputs": [],
   "source": [
    "repeated_area('354-332-4863')\n",
    "\n",
    "repeated_area('333-332-4863')\n",
    "repeated_area('333-332-4863 is my number')\n",
    "repeated_area('Our numbers are 354-332-4863 and 222-135-3434.')"
   ]
  },
  {
   "cell_type": "markdown",
   "metadata": {},
   "source": [
    "![test repeated area](https://github.com/ambujtewari/stats306-winter2020/raw/master/FINAL/prob_6_2.png)"
   ]
  },
  {
   "cell_type": "markdown",
   "metadata": {},
   "source": [
    "**(3)** Write a function `phone_format` that takes a phone number in either `(987) 654-3210`, `987-654-3210`, or `987 654 3210` format and returns it in `987-654-3210` format.\n",
    "\n",
    "_1 point_"
   ]
  },
  {
   "cell_type": "code",
   "execution_count": null,
   "metadata": {},
   "outputs": [],
   "source": [
    "# Solution Cell\n",
    "\n"
   ]
  },
  {
   "cell_type": "markdown",
   "metadata": {},
   "source": [
    "Make sure to test your function. For example, here are some test cases followed by expected behavior."
   ]
  },
  {
   "cell_type": "code",
   "execution_count": null,
   "metadata": {},
   "outputs": [],
   "source": [
    "phone_format('(987) 654-3210')\n",
    "phone_format('987-654-3210')\n",
    "phone_format('987 654 3210')"
   ]
  },
  {
   "cell_type": "markdown",
   "metadata": {},
   "source": [
    "![test phone format](https://github.com/ambujtewari/stats306-winter2020/raw/master/FINAL/prob_6_3.png)"
   ]
  },
  {
   "cell_type": "markdown",
   "metadata": {},
   "source": [
    "**(4)** Write a function `most_common_digit` that finds the most common numerical digit in a given string. It can return this value as either a string or a number. Do not worry about ties for the most common numerical digit, just return any digit if the answer is not unique.\n",
    "\n",
    "_2 points_"
   ]
  },
  {
   "cell_type": "code",
   "execution_count": null,
   "metadata": {},
   "outputs": [],
   "source": [
    "# Solution Cell\n",
    "\n"
   ]
  },
  {
   "cell_type": "markdown",
   "metadata": {},
   "source": [
    "Make sure to test your function. For example, here are some test cases followed by expected behavior."
   ]
  },
  {
   "cell_type": "code",
   "execution_count": null,
   "metadata": {},
   "outputs": [],
   "source": [
    "most_common_digit('(987) 654-3210, 354-332-4863, 226-824-2216, 175-824-7902')\n",
    "most_common_digit('I bought $100 of cheese, $21 of eggs, and $15 of flour.')"
   ]
  },
  {
   "cell_type": "markdown",
   "metadata": {},
   "source": [
    "![test most common digit](https://github.com/ambujtewari/stats306-winter2020/raw/master/FINAL/prob_6_4.png)"
   ]
  },
  {
   "cell_type": "markdown",
   "metadata": {},
   "source": [
    "# Problem 7: A Simple Simulation of an Epidemic\n",
    "## _5 points_"
   ]
  },
  {
   "cell_type": "markdown",
   "metadata": {},
   "source": [
    "In this problem, we will build a very simple simulation of the spread of an epidemic in a population of $n$ healthy individuals. Our goal is to study the impact of social distancing on \"flattening the curve\". This problem is inpired by a simulator from Washington Post:\n",
    "\n",
    "https://www.washingtonpost.com/graphics/2020/world/corona-simulator/\n",
    "\n",
    "### Basics\n",
    "\n",
    "However, instead of physics based simulation of collision of balls, we will do a much more simple simulation. Each individual will start off at a random position $(x,y)$ in the $N \\times N$ grid given by the $N^2$ points with both coordinates being integers in the range $1$ through $N$ (inclusive). The health `status` of individuals in our simulation can only be one of three values: `\"H\"` (for healthy), `\"I\"` (for infected), and `\"R\"` (for recovered). In the beginning, a set of size `initial_size` is chosen at random without replacement from among the $n$ individuals. These individuals are marked as `\"I\"` (i.e., infected).\n",
    "\n",
    "### Compliance to social distancing\n",
    "Each individual either complies with social distancing or doesn't and this does _not_ change over the course of the simulation. The logical variable `compliant` records this attribute. It is initially set as follows: for each individual assign `compliant` to `TRUE` with probability `c_rate` (we will play with different values of `c_rate`). In our simulation, compliant individuals do not move at all at any point in the simulation (but they can still get infected if an infected, non-compliant individual comes into contact with them). \n",
    "\n",
    "The simulation runs in discrete times steps $k$ numbered from $1$ through $T$.\n",
    "\n",
    "### Movement\n",
    "\n",
    "At each time step, every _non-compliant_ individual moves from their current location $(x,y)$ to $(\\text{clip}(x+ \\delta_x), \\text{clip}(y + \\delta_y))$. Here $\\delta_x, \\delta_y$ are chosen at uniformly at random from the two-element set $\\{ -1, +1 \\}$. The $\\text{clip}$ function ensures that individuals stay within the $N \\times N$ grid and is defined as:\n",
    "\n",
    "$$\n",
    "\\text{clip}(x)\n",
    "=\n",
    "\\begin{cases}\n",
    "1 & \\text{if } x<1 \\\\\n",
    "x & \\text{if } 1\\le x \\le N \\\\\n",
    "N & \\text{if } x>N\n",
    "\\end{cases}\n",
    "$$\n",
    "\n",
    "### Infection spead and recovery\n",
    "\n",
    "At each time step, every _infected_ individual infects any _healthy_ individuals that happen to be in the same location. People authomaticaly recover after `rtime` days. A recovered individual is assumed to be forever immune and cannot get infected again."
   ]
  },
  {
   "cell_type": "code",
   "execution_count": null,
   "metadata": {},
   "outputs": [],
   "source": [
    "# PLEASE DON'T edit this cell\n",
    "# if you want to play with the simulation by changing parameter etc.,\n",
    "# please copy the notebook and change the copy\n",
    "\n",
    "n <- 400 # population size\n",
    "N <- 25 # grid is N x N\n",
    "initial_size <- 20 # initial no. of infected people\n",
    "\n",
    "rtime <- 10 # recovery time"
   ]
  },
  {
   "cell_type": "markdown",
   "metadata": {},
   "source": [
    "## Initialize state of the simulation"
   ]
  },
  {
   "cell_type": "markdown",
   "metadata": {},
   "source": [
    "We will store the state of the population in an $n \\times 6$ tibble called `state`. This tibble will have 6 variables:\n",
    "\n",
    "* `compliant`: a logical vector which has value TRUE for compliant individuals, FALSE for non-compliant ones\n",
    "* `status`: a character vector which has values \"H\", \"I\" or \"R\" indicating the current health status\n",
    "* `xpos`: the x-position of an individual (an integer between 1 and N)\n",
    "* `ypos`: the y-position of an individual (an integer between 1 and N)\n",
    "* `infected`: the time step at which the individual got infected (`NA` if the individual never got infected)\n",
    "* `recovered`: the time step at which the individual receovered (`NA` if the individual never recovered)"
   ]
  },
  {
   "cell_type": "markdown",
   "metadata": {},
   "source": [
    "**(1)** Complete the definition of the function `init_state` which initializes the state of the simulation. It should return a $n \\times 6$ tibble `state`. Its input arguments are `n`, the population size, `N`, the grid dimension, `initial_size`, the size of the initially infected group, and `c_rate` which controls how many individuals comply with social distancing guidelines. Below each comment block that says \"FILL IN CODE\", add exactly one line of code. You should _not_ use loops in the code cell below.\n",
    "\n",
    "_3 points_\n",
    "<br><br>"
   ]
  },
  {
   "cell_type": "code",
   "execution_count": null,
   "metadata": {},
   "outputs": [],
   "source": [
    "# Solution Cell\n",
    "\n",
    "init_state <- function(n, N, initial_size, c_rate) {\n",
    "\n",
    "    # note that when you create a tibble, each column definition (except the last one)\n",
    "    # should end with a comma\n",
    "    state <- tibble(\n",
    "        \n",
    "        # FILL IN CODE\n",
    "        # set compliant to be a logical vector where each entry is set to TRUE with\n",
    "        # probability c_rate\n",
    "        # Hint: use the rbinom() function\n",
    "        compliant = NULL,\n",
    "    \n",
    "        # FILL IN CODE\n",
    "        # set status to be a character vector where each entry is \"H\" (for healthy)\n",
    "        # Hint: use the rep() function\n",
    "        status = NULL,\n",
    "    \n",
    "        # FILL IN CODE\n",
    "        # set xpos to the initial x positions\n",
    "        # these should be chosen at random _with replacement_ from 1:N\n",
    "        # Hint: use the sample() function\n",
    "        xpos = NULL,\n",
    "        \n",
    "        # FILL IN CODE\n",
    "        # set ypos to the initial y positions\n",
    "        # these should be chosen at random _with replacement_ from 1:N\n",
    "        ypos = NULL,\n",
    "    \n",
    "        # FILL IN CODE\n",
    "        # set infected to be vector consisting of NAs (i.e., missing values)\n",
    "        infected = NULL,\n",
    "    \n",
    "        # FILL IN CODE\n",
    "        # set recovered to be vector consisting of NAs (i.e., missing values)\n",
    "        recovered = NULL\n",
    "    )\n",
    "\n",
    "    # FILL IN CODE\n",
    "    # set first_infections to a vector of length initial_size\n",
    "    # its entries should be drawn _without replacement, from 1:n\n",
    "    first_infections <- NULL\n",
    "\n",
    "    # FILL IN CODE\n",
    "    # set the status of first infected individuals to \"I\"\n",
    "    state$status <- NULL\n",
    "    \n",
    "    # FILL IN CODE\n",
    "    # set the variable infected for infected individuals to the value of the variable now\n",
    "    # note that the code that runs the simulation will make sure that the variable now is well-defined\n",
    "    state$infected <- NULL\n",
    "\n",
    "    return(state)\n",
    "}"
   ]
  },
  {
   "cell_type": "markdown",
   "metadata": {},
   "source": [
    "## Helper plotting functions"
   ]
  },
  {
   "cell_type": "markdown",
   "metadata": {},
   "source": [
    "Here are two helper functions already defined for you. They will help you visualize the state of the population and the history of infections once the simulation finishes."
   ]
  },
  {
   "cell_type": "code",
   "execution_count": null,
   "metadata": {},
   "outputs": [],
   "source": [
    "plot_state <- function() {\n",
    "    ggplot(state) +\n",
    "        geom_jitter(aes(xpos, ypos, color = status), size = 4) + # jitter to avoid overplotting\n",
    "        scale_colour_manual(values = c(\"H\" = \"blue\", \"I\" = \"red\", \"R\" = \"green\"))\n",
    "}"
   ]
  },
  {
   "cell_type": "code",
   "execution_count": null,
   "metadata": {},
   "outputs": [],
   "source": [
    "plot_history <- function() {\n",
    "    ggplot(history) +\n",
    "        geom_line(aes(day, count, color = status), size = 2) +\n",
    "        scale_colour_manual(values = c(\"H\" = \"blue\", \"I\" = \"red\", \"R\" = \"green\")) +\n",
    "        facet_wrap(~ c_rate)\n",
    "}"
   ]
  },
  {
   "cell_type": "markdown",
   "metadata": {},
   "source": [
    "## Helper functions for running the simulation"
   ]
  },
  {
   "cell_type": "markdown",
   "metadata": {},
   "source": [
    "**(2)** Define a function `clip` below such that, when we give it a vector with entries\n",
    "\n",
    "$v_1, v_2, v_3, \\cdots$\n",
    "\n",
    "as an argument, it returns a vector with entries\n",
    "\n",
    "$\\text{clip}(v_1), \\text{clip}(v_2), \\text{clip}(v_3), \\cdots$\n",
    "\n",
    "_1 point_\n",
    "<br><br>"
   ]
  },
  {
   "cell_type": "code",
   "execution_count": null,
   "metadata": {},
   "outputs": [],
   "source": [
    "# Solution Cell\n",
    "\n"
   ]
  },
  {
   "cell_type": "markdown",
   "metadata": {},
   "source": [
    "**(3)** Define a function `move_people` that takes the state of the simulation as an argument and returns another state where all individuals have made a single move. Note that in a single move, an individual at position $(x,y)$ in the grid moves to $(\\text{clip}(x+ \\delta_x), \\text{clip}(y + \\delta_y))$ where $\\delta_x, \\delta_y$ are chosen at uniformly at random from the two-element set $\\{ -1, +1 \\}$.\n",
    "\n",
    "_1 point_\n",
    "<br><br>"
   ]
  },
  {
   "cell_type": "code",
   "execution_count": null,
   "metadata": {},
   "outputs": [],
   "source": [
    "# Solution Cell\n",
    "\n"
   ]
  },
  {
   "cell_type": "markdown",
   "metadata": {},
   "source": [
    "The following function `update_function` is already defined for you. It simulates the spread of infection and recovery of individuals."
   ]
  },
  {
   "cell_type": "code",
   "execution_count": null,
   "metadata": {},
   "outputs": [],
   "source": [
    "# PLEASE DON'T edit this cell\n",
    "\n",
    "update_status <- function(state) {\n",
    "    \n",
    "    # see if individuals have recovered\n",
    "    condition1 <- state$status == \"I\" & now - state$infected > rtime\n",
    "    state$status <- ifelse(condition1, \"R\", state$status)\n",
    "    state$recovered <- ifelse(condition1, now, state$recovered)\n",
    "        \n",
    "\n",
    "    for (i in 1:n) {\n",
    "        \n",
    "        ix <- state$xpos[i]\n",
    "        iy <- state$ypos[i]\n",
    "        \n",
    "        # if individual i is infected, they infect every healthy individual at their location\n",
    "        if (state$status[i] == \"I\") {\n",
    "            condition2 <- state$xpos == ix & state$ypos == iy & state$status == \"H\"\n",
    "            state$status <- ifelse(condition2, \"I\", state$status)\n",
    "            state$infected <- ifelse(condition2, now, state$infected)\n",
    "        }\n",
    "        \n",
    "    }\n",
    "    \n",
    "    return(state)\n",
    "}"
   ]
  },
  {
   "cell_type": "markdown",
   "metadata": {},
   "source": [
    "## Testing your code for state initialization and movement of individuals"
   ]
  },
  {
   "cell_type": "code",
   "execution_count": null,
   "metadata": {},
   "outputs": [],
   "source": [
    "now <- 0\n",
    "state <- init_state(n, N, initial_size, c_rate=0.5)\n",
    "plot_state()"
   ]
  },
  {
   "cell_type": "markdown",
   "metadata": {},
   "source": [
    "You should see something like this image below. In particular, you should see 20 infected individuals (seen in red dots). Your plot will look a bit different due to randomness.\n",
    "\n",
    "![state1](https://github.com/ambujtewari/stats306-winter2020/raw/master/FINAL/prob_7_state1.png)"
   ]
  },
  {
   "cell_type": "code",
   "execution_count": null,
   "metadata": {},
   "outputs": [],
   "source": [
    "# run the simulation for 10 steps\n",
    "for (k in 1:10) {\n",
    "        now <- now + 1\n",
    "        state <- move_people(state)\n",
    "        state <- update_status(state)\n",
    "}  \n",
    "\n",
    "# then visualize the state again\n",
    "plot_state()"
   ]
  },
  {
   "cell_type": "markdown",
   "metadata": {},
   "source": [
    "You should see something like the image below. Main test is to see if the number of red dots has gone up. You won't see any recovered individual since we only ran the simulation for 10 steps and we have set the recovery time to also be 10.\n",
    "\n",
    "![state2](https://github.com/ambujtewari/stats306-winter2020/raw/master/FINAL/prob_7_state2.png)"
   ]
  },
  {
   "cell_type": "markdown",
   "metadata": {},
   "source": [
    "## Running the simulation for various compliance rates and visualizing the result"
   ]
  },
  {
   "cell_type": "markdown",
   "metadata": {},
   "source": [
    "Now we will run the simulation for 50 steps for a variety of compliance rates. Then we will visualize the history of infections to see if more compliance flatten the curve (the red curve that tracks infected people). Please be patient when you run the cell below -- it can take a few tens of seconds to run."
   ]
  },
  {
   "cell_type": "code",
   "execution_count": null,
   "metadata": {},
   "outputs": [],
   "source": [
    "history <- tibble(day = integer(), status = character(), count = integer(), c_rate = numeric())\n",
    "\n",
    "\n",
    "T <- 50 # length of simulation\n",
    "\n",
    "for (c_rate in seq(0.3,0.9,by=0.2)) { \n",
    "    \n",
    "    now <- 0 # current time\n",
    "    state <- init_state(n, N, initial_size, c_rate)\n",
    "    \n",
    "    for (k in 1:T) {\n",
    "        now <- now + 1\n",
    "        state <- move_people(state)\n",
    "        state <- update_status(state)\n",
    "    \n",
    "        history <- add_row(history, day = now, status = \"H\", count = sum(state$status == \"H\"), c_rate = c_rate)\n",
    "        history <- add_row(history, day = now, status = \"I\", count = sum(state$status == \"I\"), c_rate = c_rate)\n",
    "        history <- add_row(history, day = now, status = \"R\", count = sum(state$status == \"R\"), c_rate = c_rate)\n",
    "    }\n",
    "}"
   ]
  },
  {
   "cell_type": "code",
   "execution_count": null,
   "metadata": {},
   "outputs": [],
   "source": [
    "plot_history()"
   ]
  },
  {
   "cell_type": "markdown",
   "metadata": {},
   "source": [
    "You should see something similar to the image below.\n",
    "\n",
    "![history](https://github.com/ambujtewari/stats306-winter2020/raw/master/FINAL/prob_7_history.png)"
   ]
  },
  {
   "cell_type": "markdown",
   "metadata": {},
   "source": [
    "# Problem 8: Fitting a Growth Curve to US COVID-19 Data\n",
    "## _5 points_"
   ]
  },
  {
   "cell_type": "markdown",
   "metadata": {},
   "source": [
    "In this problem we will use the state-level data published by the New York Times at their COVID-19 github repository:\n",
    "\n",
    "https://github.com/nytimes/covid-19-data\n",
    "\n",
    "We will use a snapshot downloaded on April 12, 2020 that has data from January 21, 2020 through April 11, 2020."
   ]
  },
  {
   "cell_type": "code",
   "execution_count": null,
   "metadata": {},
   "outputs": [],
   "source": [
    "cases_by_state <- read_csv(\"https://github.com/ambujtewari/stats306-winter2020/raw/master/FINAL/us-states.csv\") %>%\n",
    "    select(date, state, cases)\n",
    "head(cases_by_state)"
   ]
  },
  {
   "cell_type": "markdown",
   "metadata": {},
   "source": [
    "**(1)** Create a tibble `us_cases` that has four variables:\n",
    "\n",
    "- `date`: the date for which cases are reported\n",
    "- `cases`: number of cases summed over all US states on that date\n",
    "- `i`: the row index of the observation minus one\n",
    "- `log_cases`: natural log of the `cases` variable\n",
    "\n",
    "\n",
    "_1 point_\n",
    "<br><br>"
   ]
  },
  {
   "cell_type": "code",
   "execution_count": null,
   "metadata": {},
   "outputs": [],
   "source": [
    "# Solution Cell\n",
    "\n"
   ]
  },
  {
   "cell_type": "code",
   "execution_count": null,
   "metadata": {},
   "outputs": [],
   "source": [
    "head(us_cases)"
   ]
  },
  {
   "cell_type": "markdown",
   "metadata": {},
   "source": [
    "The `head` of your tibble should look like this:\n",
    "![head](https://github.com/ambujtewari/stats306-winter2020/raw/master/FINAL/prob_8_head.png)"
   ]
  },
  {
   "cell_type": "markdown",
   "metadata": {},
   "source": [
    "## Fit linear model for log_cases and visualize it in log and in original space"
   ]
  },
  {
   "cell_type": "markdown",
   "metadata": {},
   "source": [
    "Let us fit a linear model `log_cases ~ a1 + a2 * i` using `lm` and save the intercept `a1` and slope `a2`."
   ]
  },
  {
   "cell_type": "code",
   "execution_count": null,
   "metadata": {},
   "outputs": [],
   "source": [
    "mod <- lm(log_cases ~ i, data = us_cases)\n",
    "a1 <- coef(mod)[[1]]\n",
    "a2 <- coef(mod)[[2]]"
   ]
  },
  {
   "cell_type": "markdown",
   "metadata": {},
   "source": [
    "**(2)** Create a scatterplot in blue color with `i` on the x-axis and `log_cases` on the y-axis. Superimpose the model on the scatterplot using `geom_abline`.\n",
    "\n",
    "_1 point_\n",
    "<br><br>"
   ]
  },
  {
   "cell_type": "code",
   "execution_count": null,
   "metadata": {},
   "outputs": [],
   "source": [
    "# Solution Cell\n",
    "\n"
   ]
  },
  {
   "cell_type": "markdown",
   "metadata": {},
   "source": [
    "**(3)** Now create a scatterplot in blue color with `i` on the x-axis and `cases` on the y-axis. The linear model `log_cases ~ a1 + a2 * i` becomes the non-linear model `cases ~ exp(a1) * exp(a2 * i)`. Since `geom_abline` cannot plot this non-linear model, use `stat_function` to superimpose the model on the scatterplot. Here is the documentation for `stat_function` for your reference: https://ggplot2.tidyverse.org/reference/stat_function.html\n",
    "\n",
    "_1 point_\n",
    "<br><br>"
   ]
  },
  {
   "cell_type": "code",
   "execution_count": null,
   "metadata": {},
   "outputs": [],
   "source": [
    "# Solution Cell\n",
    "\n"
   ]
  },
  {
   "cell_type": "markdown",
   "metadata": {},
   "source": [
    "The estimated doubling time is the solution $t_0$ to the equation:\n",
    "\n",
    "$2 = \\exp(a2 \\times t_0)$"
   ]
  },
  {
   "cell_type": "code",
   "execution_count": null,
   "metadata": {},
   "outputs": [],
   "source": [
    "sprintf(\"Estimated doubling time for cases is %f days\", log(2)/a2)"
   ]
  },
  {
   "cell_type": "markdown",
   "metadata": {},
   "source": [
    "## An alternate modeling strategy"
   ]
  },
  {
   "cell_type": "markdown",
   "metadata": {},
   "source": [
    "Here we directly consider non-linear models of the form `cases ~ c1 * exp(c2 * i)` where `i` is the count of days since Jan 21, 2020. Then we minimize the root mean squared error (RMSE) over choices of model parameters `c1` and `c2`."
   ]
  },
  {
   "cell_type": "code",
   "execution_count": null,
   "metadata": {},
   "outputs": [],
   "source": [
    "# create a tibble with 400 models\n",
    "# columns correspond to parameters c1 and c2\n",
    "models <- expand_grid(c1=seq(0,1,length=20),c2=seq(0,0.5,length=20))"
   ]
  },
  {
   "cell_type": "markdown",
   "metadata": {},
   "source": [
    "**(4)** Define a function `model_predictions` that takes `c1`, `c2` and a tibble `data` as arguments. It then outputs a vector of predictions that the non-linear model with parameters `c1`, `c2` makes on the `i` column of `data`. Do _not_ use loops.\n",
    "\n",
    "_1 point_\n",
    "<br><br>"
   ]
  },
  {
   "cell_type": "code",
   "execution_count": null,
   "metadata": {},
   "outputs": [],
   "source": [
    "# Solution Cell\n",
    "\n"
   ]
  },
  {
   "cell_type": "markdown",
   "metadata": {},
   "source": [
    "Next we define a \"distance\" between a model and data by using the RMSE performance measure. It will only work if you've properly defined `model_predictions` above."
   ]
  },
  {
   "cell_type": "code",
   "execution_count": null,
   "metadata": {},
   "outputs": [],
   "source": [
    "measure_distance <- function(c1, c2, data) {\n",
    "    predictions <- model_predictions(c1, c2, data)\n",
    "    diff <- data$cases - predictions\n",
    "    sqrt(mean(diff ^ 2))\n",
    "}"
   ]
  },
  {
   "cell_type": "code",
   "execution_count": null,
   "metadata": {},
   "outputs": [],
   "source": [
    "measure_distance(0.5, 0.25, us_cases) # test the function measure_distance"
   ]
  },
  {
   "cell_type": "code",
   "execution_count": null,
   "metadata": {},
   "outputs": [],
   "source": [
    "us_cases_dist <- function(c1, c2) {\n",
    "  measure_distance(c1, c2, us_cases)\n",
    "}"
   ]
  },
  {
   "cell_type": "markdown",
   "metadata": {},
   "source": [
    "Let us compute and look at the 5 best models."
   ]
  },
  {
   "cell_type": "code",
   "execution_count": null,
   "metadata": {},
   "outputs": [],
   "source": [
    "models <- models %>% \n",
    "  mutate(dist = map2_dbl(c1, c2, us_cases_dist))\n",
    "top_n(models, 5, -dist) # top 5 models (models with least dist values)"
   ]
  },
  {
   "cell_type": "markdown",
   "metadata": {},
   "source": [
    "Let us focus on the best model and save its parameters in `best_c1` and `best_c2`."
   ]
  },
  {
   "cell_type": "code",
   "execution_count": null,
   "metadata": {},
   "outputs": [],
   "source": [
    "best_c1 <- top_n(models, 1, -dist)[[1]]\n",
    "best_c2 <- top_n(models, 1, -dist)[[2]]"
   ]
  },
  {
   "cell_type": "markdown",
   "metadata": {},
   "source": [
    "**(5)** Create a scatterplot in blue color with `i` on the x-axis and `cases` on the y-axis. Superimpose the model predictions made by `best_c1` and `best_c2`.\n",
    "\n",
    "_1 point_\n",
    "<br><br>"
   ]
  },
  {
   "cell_type": "code",
   "execution_count": null,
   "metadata": {},
   "outputs": [],
   "source": [
    "# Solution Cell\n",
    "\n"
   ]
  },
  {
   "cell_type": "code",
   "execution_count": null,
   "metadata": {},
   "outputs": [],
   "source": [
    "sprintf(\"Estimated doubling time for cases is %f days.\", log(2)/best_c2)"
   ]
  },
  {
   "cell_type": "markdown",
   "metadata": {},
   "source": [
    "The estimated doubling time will be different from what you got before. But it should be in the same ballpark."
   ]
  }
 ],
 "metadata": {
  "kernelspec": {
   "display_name": "R",
   "language": "R",
   "name": "ir"
  },
  "language_info": {
   "codemirror_mode": "r",
   "file_extension": ".r",
   "mimetype": "text/x-r-source",
   "name": "R",
   "pygments_lexer": "r",
   "version": "3.6.2"
  }
 },
 "nbformat": 4,
 "nbformat_minor": 2
}
